{
 "cells": [
  {
   "cell_type": "markdown",
   "metadata": {},
   "source": [
    "# Playing with random networks learning \n",
    "\n",
    "A very silly idea, perhaps silly enough? "
   ]
  },
  {
   "cell_type": "code",
   "execution_count": 1,
   "metadata": {},
   "outputs": [
    {
     "name": "stdout",
     "output_type": "stream",
     "text": [
      "play.ipynb\n"
     ]
    }
   ],
   "source": [
    "%ls"
   ]
  },
  {
   "cell_type": "code",
   "execution_count": 185,
   "metadata": {},
   "outputs": [],
   "source": [
    "import warnings\n",
    "warnings.simplefilter(action='ignore', category=FutureWarning)\n",
    "\n",
    "import matplotlib.pyplot as plt\n",
    "from sklearn.linear_model import OrthogonalMatchingPursuit\n",
    "import random\n",
    "import copy\n",
    "import numpy as np\n",
    "from tqdm import tqdm\n",
    "import torch\n",
    "import torchvision\n",
    "from torchvision import datasets,transforms\n",
    "import torch.nn.functional as F\n",
    "import torch.nn as nn\n",
    "from torch.utils.data import Dataset, DataLoader, Subset\n",
    "from torch.nn.utils.convert_parameters import parameters_to_vector, vector_to_parameters\n",
    "\n"
   ]
  },
  {
   "cell_type": "code",
   "execution_count": 77,
   "metadata": {},
   "outputs": [],
   "source": [
    "def get_deterministic(seed):\n",
    "    print(f\" --- Seed set to {seed} ---\")\n",
    "    torch.manual_seed(seed)\n",
    "    torch.cuda.manual_seed(seed)\n",
    "    torch.backends.cudnn.enabled=False\n",
    "    torch.backends.cudnn.deterministic=True\n",
    "    np.random.seed(seed)\n",
    "    random.seed(seed)\n",
    "    return"
   ]
  },
  {
   "cell_type": "code",
   "execution_count": 78,
   "metadata": {},
   "outputs": [
    {
     "name": "stdout",
     "output_type": "stream",
     "text": [
      " --- Seed set to 11 ---\n"
     ]
    }
   ],
   "source": [
    "get_deterministic(11)"
   ]
  },
  {
   "cell_type": "markdown",
   "metadata": {},
   "source": [
    "## Datasets\n",
    "\n",
    "We start by using the MNIST dataset (for simplicity) "
   ]
  },
  {
   "cell_type": "code",
   "execution_count": 3,
   "metadata": {},
   "outputs": [],
   "source": [
    "def MNIST(dataroot):\n",
    "    # Add padding to make 32x32\n",
    "    normalize = transforms.Normalize(mean=(0.1307,), std=(0.3081,))  # for 28x28\n",
    "\n",
    "    val_transform = transforms.Compose([\n",
    "        transforms.ToTensor(),\n",
    "        normalize,\n",
    "    ])\n",
    "    train_transform = val_transform\n",
    "\n",
    "    train_dataset = torchvision.datasets.MNIST(\n",
    "        root=dataroot,\n",
    "        train=True,\n",
    "        download=True,\n",
    "        transform=train_transform\n",
    "    )\n",
    "    \n",
    "    val_dataset = torchvision.datasets.MNIST(\n",
    "        dataroot,\n",
    "        train=False,\n",
    "        transform=val_transform\n",
    "    )\n",
    "    \n",
    "    return train_dataset, val_dataset"
   ]
  },
  {
   "cell_type": "code",
   "execution_count": 10,
   "metadata": {},
   "outputs": [],
   "source": [
    "data_path=\"../continually/data\"\n",
    "train, val = MNIST(data_path)"
   ]
  },
  {
   "cell_type": "code",
   "execution_count": 47,
   "metadata": {},
   "outputs": [],
   "source": [
    "def extract_labels(data, num_classes, device='cpu', encoding=False):\n",
    "    \"\"\" Returns a binary matrix with one-hot encoded labels.\"\"\"\n",
    "    labels = []\n",
    "    for (_,y) in data: \n",
    "        labels.append(y)\n",
    "    labels = torch.Tensor(labels).to(torch.long).to(device)\n",
    "    if encoding: \n",
    "        labels = F.one_hot(labels, num_classes).byte() # we save x8 storage with conversion to .byte()\n",
    "    return labels"
   ]
  },
  {
   "cell_type": "code",
   "execution_count": 51,
   "metadata": {},
   "outputs": [
    {
     "name": "stdout",
     "output_type": "stream",
     "text": [
      "100000\n"
     ]
    }
   ],
   "source": [
    "Y_val = extract_labels(val, num_classes=10, encoding=True)\n",
    "print(Y_val.element_size()*Y_val.nelement())"
   ]
  },
  {
   "cell_type": "code",
   "execution_count": 52,
   "metadata": {},
   "outputs": [
    {
     "name": "stdout",
     "output_type": "stream",
     "text": [
      "600000\n"
     ]
    }
   ],
   "source": [
    "Y_train = extract_labels(train, num_classes=10, encoding=True)\n",
    "print(Y_train.element_size()*Y_train.nelement())"
   ]
  },
  {
   "cell_type": "markdown",
   "metadata": {},
   "source": [
    "## Networks\n",
    "\n",
    "We start with a simple MLP"
   ]
  },
  {
   "cell_type": "code",
   "execution_count": 241,
   "metadata": {},
   "outputs": [],
   "source": [
    "class MLP(nn.Module):\n",
    "\n",
    "    def __init__(self, output_dim, input_dim, hidden_dim=256, num_hidden_layers=3, **kwargs):\n",
    "        super(MLP, self).__init__()\n",
    "        self.input_dim = input_dim\n",
    "        self.output_dim = output_dim\n",
    "        self.bias = kwargs.get('bias',True)\n",
    "        dims = [input_dim] + [hidden_dim]*num_hidden_layers \n",
    "        layers = []\n",
    "        for l in range(num_hidden_layers):\n",
    "            layers.append(nn.Linear(dims[l], dims[l+1], bias=self.bias))\n",
    "            layers.append(nn.ReLU(inplace=True))\n",
    "        self.features = nn.Sequential(*layers)\n",
    "        self.last = nn.Linear(hidden_dim, output_dim, bias=self.bias)\n",
    "\n",
    "        print(sum(p.numel() for p in self.parameters()), \"parameters\")\n",
    "\n",
    "    def logits(self, z):\n",
    "        z = self.last(z)\n",
    "        return z\n",
    "\n",
    "    def forward(self, x, normalised=True, t=1.0):\n",
    "        x = self.features(x)\n",
    "        x = self.logits(x)\n",
    "        if normalised: x = F.softmax(x/t, dim=1)\n",
    "        return x\n",
    "\n",
    "    @staticmethod\n",
    "    def init_weights(m):\n",
    "        if isinstance(m, nn.Linear):\n",
    "            torch.nn.init.xavier_uniform_(m.weight)\n",
    "            m.bias.data.fill_(0.01)\n",
    "\n",
    "        "
   ]
  },
  {
   "cell_type": "code",
   "execution_count": 242,
   "metadata": {},
   "outputs": [
    {
     "name": "stdout",
     "output_type": "stream",
     "text": [
      "335114 parameters\n"
     ]
    },
    {
     "data": {
      "text/plain": [
       "MLP(\n",
       "  (features): Sequential(\n",
       "    (0): Linear(in_features=784, out_features=256, bias=True)\n",
       "    (1): ReLU(inplace=True)\n",
       "    (2): Linear(in_features=256, out_features=256, bias=True)\n",
       "    (3): ReLU(inplace=True)\n",
       "    (4): Linear(in_features=256, out_features=256, bias=True)\n",
       "    (5): ReLU(inplace=True)\n",
       "  )\n",
       "  (last): Linear(in_features=256, out_features=10, bias=True)\n",
       ")"
      ]
     },
     "execution_count": 242,
     "metadata": {},
     "output_type": "execute_result"
    }
   ],
   "source": [
    "input_dim = 28**2\n",
    "net = MLP(10, input_dim)\n",
    "net.apply(net.init_weights)"
   ]
  },
  {
   "cell_type": "code",
   "execution_count": 243,
   "metadata": {},
   "outputs": [
    {
     "data": {
      "text/plain": [
       "tensor(42.8299, grad_fn=<CopyBackwards>)"
      ]
     },
     "execution_count": 243,
     "metadata": {},
     "output_type": "execute_result"
    }
   ],
   "source": [
    "# testing wether the initialisation function works\n",
    "net.apply(net.init_weights)\n",
    "theta = parameters_to_vector(net.parameters())\n",
    "net.apply(net.init_weights)\n",
    "theta_prime = parameters_to_vector(net.parameters())\n",
    "torch.norm(theta-theta_prime)"
   ]
  },
  {
   "cell_type": "code",
   "execution_count": 244,
   "metadata": {},
   "outputs": [],
   "source": [
    "# generating a random net basis\n",
    "K = 100\n",
    "B = []\n",
    "for _ in range(K):\n",
    "    net.apply(net.init_weights)\n",
    "    with torch.no_grad(): B.append(parameters_to_vector(net.parameters()))\n",
    "B = torch.vstack(B)"
   ]
  },
  {
   "cell_type": "code",
   "execution_count": 245,
   "metadata": {},
   "outputs": [
    {
     "data": {
      "image/png": "[encoded data removed]",
      "text/plain": [
       "<Figure size 640x480 with 1 Axes>"
      ]
     },
     "metadata": {},
     "output_type": "display_data"
    }
   ],
   "source": [
    "B2 = torch.matmul(B,B.T)/torch.norm(B)**2\n",
    "B2.shape\n",
    "\n",
    "plt.imshow(B2, cmap='hot', interpolation='nearest')\n",
    "plt.show()"
   ]
  },
  {
   "cell_type": "markdown",
   "metadata": {},
   "source": [
    "## Learning algorithm"
   ]
  },
  {
   "cell_type": "markdown",
   "metadata": {},
   "source": [
    "Basically divided in two steps \\\n",
    "(1) generate random net basis and obtain prediction vectors \\\n",
    "(2) apply matching pursuit to it "
   ]
  },
  {
   "cell_type": "code",
   "execution_count": 258,
   "metadata": {},
   "outputs": [],
   "source": [
    "K = 100 # what is the dimensionality of MNIST? \n",
    "K_star = 100 # number of used elements in MP\n",
    "M = 128\n",
    "epsilon = 0.000001 # error threshold"
   ]
  },
  {
   "cell_type": "markdown",
   "metadata": {},
   "source": [
    "### Part I"
   ]
  },
  {
   "cell_type": "code",
   "execution_count": null,
   "metadata": {},
   "outputs": [],
   "source": [
    "#TODO: device checking\n",
    "#TODO: test reproducibility"
   ]
  },
  {
   "cell_type": "code",
   "execution_count": 249,
   "metadata": {},
   "outputs": [],
   "source": [
    "T = 0.01 # temperature"
   ]
  },
  {
   "cell_type": "code",
   "execution_count": 247,
   "metadata": {},
   "outputs": [],
   "source": [
    "def generate_random_net_basis(num_elements, net):\n",
    "    B = []\n",
    "    for _ in range(K):\n",
    "        net.apply(net.init_weights)\n",
    "        net.eval()\n",
    "        B.append(copy.deepcopy(net))\n",
    "    return B"
   ]
  },
  {
   "cell_type": "code",
   "execution_count": 248,
   "metadata": {},
   "outputs": [],
   "source": [
    "B = generate_random_net_basis(K, net)"
   ]
  },
  {
   "cell_type": "code",
   "execution_count": 250,
   "metadata": {},
   "outputs": [],
   "source": [
    "def get_random_output_basis(net_basis, data_loader):\n",
    "    # generating a random output basis\n",
    "    yB = []\n",
    "    for i in tqdm(range(len(net_basis))):\n",
    "        outputs = []\n",
    "        net = net_basis[i]\n",
    "        for (x,_) in data_loader: \n",
    "            x = x.reshape(-1, net.input_dim)\n",
    "            with torch.no_grad(): outputs.append(net.forward(x, t=T))\n",
    "        outputs = torch.vstack(outputs)\n",
    "        yB.append(outputs)\n",
    "    yB = torch.stack(yB)\n",
    "\n",
    "    return yB"
   ]
  },
  {
   "cell_type": "code",
   "execution_count": 175,
   "metadata": {},
   "outputs": [],
   "source": [
    "train_loader = DataLoader(train, batch_size=M, shuffle=False, num_workers=10,  pin_memory=False)\n",
    "val_loader = DataLoader(val, batch_size=M, shuffle=False, num_workers=10,  pin_memory=False)"
   ]
  },
  {
   "cell_type": "code",
   "execution_count": 251,
   "metadata": {},
   "outputs": [
    {
     "name": "stderr",
     "output_type": "stream",
     "text": [
      "100%|██████████| 100/100 [03:24<00:00,  2.04s/it]\n"
     ]
    }
   ],
   "source": [
    "yB = get_random_output_basis(B, train_loader)"
   ]
  },
  {
   "cell_type": "code",
   "execution_count": 252,
   "metadata": {},
   "outputs": [
    {
     "data": {
      "text/plain": [
       "torch.Size([100, 60000, 10])"
      ]
     },
     "execution_count": 252,
     "metadata": {},
     "output_type": "execute_result"
    }
   ],
   "source": [
    "yB.shape"
   ]
  },
  {
   "cell_type": "code",
   "execution_count": 253,
   "metadata": {},
   "outputs": [
    {
     "data": {
      "image/png": "[encoded data removed]",
      "text/plain": [
       "<Figure size 640x480 with 1 Axes>"
      ]
     },
     "metadata": {},
     "output_type": "display_data"
    }
   ],
   "source": [
    "yB2 = torch.matmul(yB.reshape(K,-1),yB.reshape(K,-1).T)/torch.norm(yB.reshape(K,-1))**2\n",
    "yB2.shape\n",
    "\n",
    "plt.imshow(yB2, cmap='hot', interpolation='nearest')\n",
    "plt.show()"
   ]
  },
  {
   "cell_type": "markdown",
   "metadata": {},
   "source": [
    "### Part II"
   ]
  },
  {
   "cell_type": "code",
   "execution_count": 259,
   "metadata": {},
   "outputs": [
    {
     "name": "stderr",
     "output_type": "stream",
     "text": [
      "/local/home/glanzillo/.local/lib/python3.8/site-packages/sklearn/linear_model/_omp.py:757: RuntimeWarning: Orthogonal matching pursuit ended prematurely due to linear dependence in the dictionary. The requested precision might not have been met.\n",
      "  coef_, self.n_iter_ = orthogonal_mp_gram(\n"
     ]
    }
   ],
   "source": [
    "omp = OrthogonalMatchingPursuit(n_nonzero_coefs=K_star, tol=epsilon, fit_intercept=True, normalize=False)\n",
    "omp.fit(yB.reshape(K,-1).T, Y_train.reshape(-1).to(torch.float)) #dimension check: N x K, N x 1\n",
    "alpha = omp.coef_"
   ]
  },
  {
   "cell_type": "code",
   "execution_count": 260,
   "metadata": {},
   "outputs": [],
   "source": [
    "(idx_r,) = alpha.nonzero()"
   ]
  },
  {
   "cell_type": "code",
   "execution_count": 261,
   "metadata": {},
   "outputs": [
    {
     "data": {
      "text/plain": [
       "<StemContainer object of 3 artists>"
      ]
     },
     "execution_count": 261,
     "metadata": {},
     "output_type": "execute_result"
    },
    {
     "data": {
      "image/png": "[encoded data removed]",
      "text/plain": [
       "<Figure size 640x480 with 1 Axes>"
      ]
     },
     "metadata": {},
     "output_type": "display_data"
    }
   ],
   "source": [
    "plt.xlim(0, K)\n",
    "plt.title(\"Recovered signal\")\n",
    "plt.stem(idx_r, alpha[idx_r])\n"
   ]
  },
  {
   "cell_type": "markdown",
   "metadata": {},
   "source": [
    "### Now evaluating on validation data"
   ]
  },
  {
   "cell_type": "code",
   "execution_count": 193,
   "metadata": {},
   "outputs": [
    {
     "name": "stderr",
     "output_type": "stream",
     "text": [
      "100%|██████████| 100/100 [01:14<00:00,  1.35it/s]\n"
     ]
    }
   ],
   "source": [
    "yB_val = get_random_output_basis(B, val_loader)"
   ]
  },
  {
   "cell_type": "code",
   "execution_count": 219,
   "metadata": {},
   "outputs": [],
   "source": [
    "prediction = torch.matmul(torch.Tensor(alpha), yB_val.reshape(K,-1))"
   ]
  },
  {
   "cell_type": "code",
   "execution_count": 220,
   "metadata": {},
   "outputs": [
    {
     "data": {
      "text/plain": [
       "(torch.Size([100000]), torch.Size([10000, 10]))"
      ]
     },
     "execution_count": 220,
     "metadata": {},
     "output_type": "execute_result"
    }
   ],
   "source": [
    "prediction.shape, Y_val.shape"
   ]
  },
  {
   "cell_type": "code",
   "execution_count": 227,
   "metadata": {},
   "outputs": [
    {
     "data": {
      "text/plain": [
       "44.46"
      ]
     },
     "execution_count": 227,
     "metadata": {},
     "output_type": "execute_result"
    }
   ],
   "source": [
    "prediction = torch.matmul(torch.Tensor(alpha), yB_val.reshape(K,-1))\n",
    "# validation accuracy\n",
    "_, pred = torch.max(prediction.reshape(Y_val.shape[0],Y_val.shape[1]), 1)\n",
    "_, label = torch.max(Y_val, 1)\n",
    "correct = torch.sum(pred == label).item()\n",
    "total = Y_val.shape[0]                \n",
    "acc=(correct / total) * 100\n",
    "acc"
   ]
  },
  {
   "cell_type": "code",
   "execution_count": 262,
   "metadata": {},
   "outputs": [
    {
     "data": {
      "text/plain": [
       "30.39"
      ]
     },
     "execution_count": 262,
     "metadata": {},
     "output_type": "execute_result"
    }
   ],
   "source": [
    "prediction = torch.matmul(torch.Tensor(alpha), yB.reshape(K,-1))\n",
    "# train accuracy\n",
    "_, pred = torch.max(prediction.reshape(Y_train.shape[0],Y_train.shape[1]), 1)\n",
    "_, label = torch.max(Y_train, 1)\n",
    "correct = torch.sum(pred == label).item()\n",
    "total = Y_train.shape[0]                \n",
    "acc=(correct / total) * 100\n",
    "acc"
   ]
  },
  {
   "cell_type": "code",
   "execution_count": null,
   "metadata": {},
   "outputs": [],
   "source": []
  }
 ],
 "metadata": {
  "kernelspec": {
   "display_name": "Python 3",
   "language": "python",
   "name": "python3"
  },
  "language_info": {
   "codemirror_mode": {
    "name": "ipython",
    "version": 3
   },
   "file_extension": ".py",
   "mimetype": "text/x-python",
   "name": "python",
   "nbconvert_exporter": "python",
   "pygments_lexer": "ipython3",
   "version": "3.8.10"
  },
  "orig_nbformat": 4
 },
 "nbformat": 4,
 "nbformat_minor": 2
}
